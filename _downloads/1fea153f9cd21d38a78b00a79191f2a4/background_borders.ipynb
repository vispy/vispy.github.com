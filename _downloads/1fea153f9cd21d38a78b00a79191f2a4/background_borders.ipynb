{
  "cells": [
    {
      "cell_type": "code",
      "execution_count": null,
      "metadata": {
        "collapsed": false
      },
      "outputs": [],
      "source": [
        "%gui qt"
      ]
    },
    {
      "cell_type": "markdown",
      "metadata": {},
      "source": [
        "\n# Demonstration of borders and background colors\n"
      ]
    },
    {
      "cell_type": "code",
      "execution_count": null,
      "metadata": {
        "collapsed": false
      },
      "outputs": [],
      "source": [
        "from vispy.scene import SceneCanvas\n\ncanvas = SceneCanvas(keys='interactive', bgcolor='w', show=True)\ngrid = canvas.central_widget.add_grid(spacing=0, bgcolor='gray',\n                                      border_color='k')\nview1 = grid.add_view(row=0, col=0, margin=10, bgcolor=(1, 0, 0, 0.5),\n                      border_color=(1, 0, 0))\nview2 = grid.add_view(row=0, col=1, margin=10, bgcolor=(0, 1, 0, 0.5),\n                      border_color=(0, 1, 0))\n\nif __name__ == '__main__':\n    canvas.app.run()"
      ]
    }
  ],
  "metadata": {
    "kernelspec": {
      "display_name": "Python 3",
      "language": "python",
      "name": "python3"
    },
    "language_info": {
      "codemirror_mode": {
        "name": "ipython",
        "version": 3
      },
      "file_extension": ".py",
      "mimetype": "text/x-python",
      "name": "python",
      "nbconvert_exporter": "python",
      "pygments_lexer": "ipython3",
      "version": "3.9.19"
    }
  },
  "nbformat": 4,
  "nbformat_minor": 0
}