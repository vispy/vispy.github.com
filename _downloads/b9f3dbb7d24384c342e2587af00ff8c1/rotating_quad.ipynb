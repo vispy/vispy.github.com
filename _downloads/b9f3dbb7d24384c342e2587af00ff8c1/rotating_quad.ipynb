{
  "cells": [
    {
      "cell_type": "code",
      "execution_count": null,
      "metadata": {
        "collapsed": false
      },
      "outputs": [],
      "source": [
        "%gui qt"
      ]
    },
    {
      "cell_type": "markdown",
      "metadata": {},
      "source": [
        "\n# Rotating Quad\n\nUse a Timer to animate a quad\n"
      ]
    },
    {
      "cell_type": "code",
      "execution_count": null,
      "metadata": {
        "collapsed": false
      },
      "outputs": [],
      "source": [
        "from vispy import gloo, app\nfrom vispy.gloo import Program\n\nvertex = \"\"\"\n    uniform float theta;\n    attribute vec4 color;\n    attribute vec2 position;\n    varying vec4 v_color;\n    void main()\n    {\n        float ct = cos(theta);\n        float st = sin(theta);\n        float x = 0.75* (position.x*ct - position.y*st);\n        float y = 0.75* (position.x*st + position.y*ct);\n        gl_Position = vec4(x, y, 0.0, 1.0);\n        v_color = color;\n    } \"\"\"\n\nfragment = \"\"\"\n    varying vec4 v_color;\n    void main()\n    {\n        gl_FragColor = v_color;\n    } \"\"\"\n\n\nclass Canvas(app.Canvas):\n    def __init__(self):\n        super().__init__(size=(512, 512), title='Rotating quad',\n                         keys='interactive')\n        # Build program & data\n        self.program = Program(vertex, fragment, count=4)\n        self.program['color'] = [(1, 0, 0, 1), (0, 1, 0, 1),\n                                 (0, 0, 1, 1), (1, 1, 0, 1)]\n        self.program['position'] = [(-1, -1), (-1, +1),\n                                    (+1, -1), (+1, +1)]\n        self.program['theta'] = 0.0\n\n        gloo.set_viewport(0, 0, *self.physical_size)\n        gloo.set_clear_color('white')\n\n        self.timer = app.Timer('auto', self.on_timer)\n        self.clock = 0\n        self.timer.start()\n\n        self.show()\n\n    def on_draw(self, event):\n        gloo.clear()\n        self.program.draw('triangle_strip')\n\n    def on_resize(self, event):\n        gloo.set_viewport(0, 0, *event.physical_size)\n\n    def on_timer(self, event):\n        self.clock += 0.001 * 1000.0 / 60.\n        self.program['theta'] = self.clock\n        self.update()\n\n\nif __name__ == '__main__':\n    c = Canvas()\n    app.run()"
      ]
    }
  ],
  "metadata": {
    "kernelspec": {
      "display_name": "Python 3",
      "language": "python",
      "name": "python3"
    },
    "language_info": {
      "codemirror_mode": {
        "name": "ipython",
        "version": 3
      },
      "file_extension": ".py",
      "mimetype": "text/x-python",
      "name": "python",
      "nbconvert_exporter": "python",
      "pygments_lexer": "ipython3",
      "version": "3.9.16"
    }
  },
  "nbformat": 4,
  "nbformat_minor": 0
}