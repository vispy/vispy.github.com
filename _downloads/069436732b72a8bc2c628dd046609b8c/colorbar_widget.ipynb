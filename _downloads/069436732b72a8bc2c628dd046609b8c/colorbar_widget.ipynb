{
  "cells": [
    {
      "cell_type": "code",
      "execution_count": null,
      "metadata": {
        "collapsed": false
      },
      "outputs": [],
      "source": [
        "%gui qt"
      ]
    },
    {
      "cell_type": "markdown",
      "metadata": {},
      "source": [
        "\n# Display a ColorBar\n\nSimple use of SceneCanvas and ColorBarWidget to display a ColorBar\n"
      ]
    },
    {
      "cell_type": "code",
      "execution_count": null,
      "metadata": {
        "collapsed": false
      },
      "outputs": [],
      "source": [
        "import sys\nfrom vispy import scene\nfrom vispy import app\n\ncanvas = scene.SceneCanvas(keys='interactive')\ncanvas.size = 800, 600\ncanvas.show()\ngrid = canvas.central_widget.add_grid(margin=10)\n\ncbar_widget = scene.ColorBarWidget(label=\"ColorBarWidget\", clim=(0, 99),\n                                   cmap=\"cool\", orientation=\"right\",\n                                   border_width=1)\ngrid.add_widget(cbar_widget)\n\ncbar_widget.border_color = \"#212121\"\ngrid.bgcolor = \"#ffffff\"\n\nif __name__ == '__main__' and sys.flags.interactive == 0:\n    app.run()"
      ]
    }
  ],
  "metadata": {
    "kernelspec": {
      "display_name": "Python 3",
      "language": "python",
      "name": "python3"
    },
    "language_info": {
      "codemirror_mode": {
        "name": "ipython",
        "version": 3
      },
      "file_extension": ".py",
      "mimetype": "text/x-python",
      "name": "python",
      "nbconvert_exporter": "python",
      "pygments_lexer": "ipython3",
      "version": "3.9.0"
    }
  },
  "nbformat": 4,
  "nbformat_minor": 0
}