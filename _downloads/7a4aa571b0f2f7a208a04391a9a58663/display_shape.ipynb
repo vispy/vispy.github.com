{
  "cells": [
    {
      "cell_type": "code",
      "execution_count": null,
      "metadata": {
        "collapsed": false
      },
      "outputs": [],
      "source": [
        "%gui qt"
      ]
    },
    {
      "cell_type": "markdown",
      "metadata": {},
      "source": [
        "\n# Draw a Quad\n\nSimple example demonstrating showing a quad using a gloo Program.\n"
      ]
    },
    {
      "cell_type": "code",
      "execution_count": null,
      "metadata": {
        "collapsed": false
      },
      "outputs": [],
      "source": [
        "from vispy import gloo\nfrom vispy import app\nimport numpy as np\n\n# Create vertices\nvPosition = np.array([[-0.8, -0.8, 0.0], [+0.7, -0.7, 0.0],\n                      [-0.7, +0.7, 0.0], [+0.8, +0.8, 0.0, ]], np.float32)\n\n\nVERT_SHADER = \"\"\" // simple vertex shader\nattribute vec3 a_position;\nvoid main (void) {\n    gl_Position = vec4(a_position, 1.0);\n}\n\"\"\"\n\nFRAG_SHADER = \"\"\" // simple fragment shader\nuniform vec4 u_color;\nvoid main()\n{\n    gl_FragColor = u_color;\n}\n\"\"\"\n\n\nclass Canvas(app.Canvas):\n\n    def __init__(self):\n        super().__init__(keys='interactive')\n\n        # Create program\n        self._program = gloo.Program(VERT_SHADER, FRAG_SHADER)\n\n        # Set uniform and attribute\n        self._program['u_color'] = 0.2, 1.0, 0.4, 1\n        self._program['a_position'] = gloo.VertexBuffer(vPosition)\n\n        gloo.set_clear_color('white')\n\n        self.show()\n\n    def on_resize(self, event):\n        width, height = event.physical_size\n        gloo.set_viewport(0, 0, width, height)\n\n    def on_draw(self, event):\n        gloo.clear()\n        self._program.draw('triangle_strip')\n\n\nif __name__ == '__main__':\n    canvas = Canvas()\n    app.run()"
      ]
    }
  ],
  "metadata": {
    "kernelspec": {
      "display_name": "Python 3",
      "language": "python",
      "name": "python3"
    },
    "language_info": {
      "codemirror_mode": {
        "name": "ipython",
        "version": 3
      },
      "file_extension": ".py",
      "mimetype": "text/x-python",
      "name": "python",
      "nbconvert_exporter": "python",
      "pygments_lexer": "ipython3",
      "version": "3.9.20"
    }
  },
  "nbformat": 4,
  "nbformat_minor": 0
}