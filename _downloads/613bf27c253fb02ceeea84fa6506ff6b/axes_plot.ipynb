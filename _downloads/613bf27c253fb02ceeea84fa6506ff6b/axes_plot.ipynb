{
  "cells": [
    {
      "cell_type": "code",
      "execution_count": null,
      "metadata": {
        "collapsed": false
      },
      "outputs": [],
      "source": [
        "%gui qt"
      ]
    },
    {
      "cell_type": "markdown",
      "metadata": {},
      "source": [
        "\n# Simple Line with Axis \n"
      ]
    },
    {
      "cell_type": "code",
      "execution_count": null,
      "metadata": {
        "collapsed": false
      },
      "outputs": [],
      "source": [
        "import sys\nimport numpy as np\n\nfrom vispy import scene, app\n\ncanvas = scene.SceneCanvas(keys='interactive', size=(600, 600), show=True)\ngrid = canvas.central_widget.add_grid(margin=10)\ngrid.spacing = 0\n\ntitle = scene.Label(\"Plot Title\", color='white')\ntitle.height_max = 40\ngrid.add_widget(title, row=0, col=0, col_span=2)\n\nyaxis = scene.AxisWidget(orientation='left',\n                         axis_label='Y Axis',\n                         axis_font_size=12,\n                         axis_label_margin=50,\n                         tick_label_margin=5)\nyaxis.width_max = 80\ngrid.add_widget(yaxis, row=1, col=0)\n\nxaxis = scene.AxisWidget(orientation='bottom',\n                         axis_label='X Axis',\n                         axis_font_size=12,\n                         axis_label_margin=50,\n                         tick_label_margin=5)\n\nxaxis.height_max = 80\ngrid.add_widget(xaxis, row=2, col=1)\n\nright_padding = grid.add_widget(row=1, col=2, row_span=1)\nright_padding.width_max = 50\n\nview = grid.add_view(row=1, col=1, border_color='white')\ndata = np.random.normal(size=(1000, 2))\ndata[0] = -10, -10\ndata[1] = 10, -10\ndata[2] = 10, 10\ndata[3] = -10, 10\ndata[4] = -10, -10\nplot = scene.Line(data, parent=view.scene)\nview.camera = 'panzoom'\n\nxaxis.link_view(view)\nyaxis.link_view(view)\n\n\nif __name__ == '__main__' and sys.flags.interactive == 0:\n    app.run()"
      ]
    }
  ],
  "metadata": {
    "kernelspec": {
      "display_name": "Python 3",
      "language": "python",
      "name": "python3"
    },
    "language_info": {
      "codemirror_mode": {
        "name": "ipython",
        "version": 3
      },
      "file_extension": ".py",
      "mimetype": "text/x-python",
      "name": "python",
      "nbconvert_exporter": "python",
      "pygments_lexer": "ipython3",
      "version": "3.9.19"
    }
  },
  "nbformat": 4,
  "nbformat_minor": 0
}