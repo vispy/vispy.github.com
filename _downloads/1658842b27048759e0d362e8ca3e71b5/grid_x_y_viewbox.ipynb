{
  "cells": [
    {
      "cell_type": "code",
      "execution_count": null,
      "metadata": {
        "collapsed": false
      },
      "outputs": [],
      "source": [
        "%gui qt"
      ]
    },
    {
      "cell_type": "markdown",
      "metadata": {},
      "source": [
        "\n# Plot-like Grid Layout\n\n+----+-------------+\n|    |             |\n| y  |   viewbox   |\n|    |             |\n+----+-------------+\n| sp |     x       |\n+----+-------------+\n"
      ]
    },
    {
      "cell_type": "code",
      "execution_count": null,
      "metadata": {
        "collapsed": false
      },
      "outputs": [],
      "source": [
        "import sys\n\nfrom vispy import scene, app\n\ncanvas = scene.SceneCanvas(keys='interactive')\ncanvas.size = 600, 600\ncanvas.show()\n\ngrid = canvas.central_widget.add_grid()\n\nwidget_y_axis = grid.add_widget(row=0, col=0)\nwidget_y_axis.bgcolor = \"#999999\"\n\nwidget_viewbox = grid.add_widget(row=0, col=1)\nwidget_viewbox.bgcolor = \"#dd0000\"\n\nwidget_spacer_bottom = grid.add_widget(row=1, col=0)\nwidget_spacer_bottom.bgcolor = \"#efefef\"\n\nwidget_x_axis = grid.add_widget(row=1, col=1)\nwidget_x_axis.bgcolor = \"#0000dd\"\n\nwidget_y_axis.width_min = 50\nwidget_y_axis.width_max = 50\nwidget_x_axis.height_min = 50\nwidget_x_axis.height_max = 50\n\nif __name__ == '__main__' and sys.flags.interactive == 0:\n    app.run()"
      ]
    }
  ],
  "metadata": {
    "kernelspec": {
      "display_name": "Python 3",
      "language": "python",
      "name": "python3"
    },
    "language_info": {
      "codemirror_mode": {
        "name": "ipython",
        "version": 3
      },
      "file_extension": ".py",
      "mimetype": "text/x-python",
      "name": "python",
      "nbconvert_exporter": "python",
      "pygments_lexer": "ipython3",
      "version": "3.9.22"
    }
  },
  "nbformat": 4,
  "nbformat_minor": 0
}