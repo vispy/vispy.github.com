{
  "cells": [
    {
      "cell_type": "code",
      "execution_count": null,
      "metadata": {
        "collapsed": false
      },
      "outputs": [],
      "source": [
        "%gui qt"
      ]
    },
    {
      "cell_type": "markdown",
      "metadata": {},
      "source": [
        "\n# Create a Point Cloud\n\nDemonstrates use of visual.Markers to create a point cloud with a\nstandard turntable camera to fly around with and a centered 3D Axis.\n"
      ]
    },
    {
      "cell_type": "code",
      "execution_count": null,
      "metadata": {
        "collapsed": false
      },
      "outputs": [],
      "source": [
        "import numpy as np\nimport vispy.scene\nfrom vispy.scene import visuals\n\n#\n# Make a canvas and add simple view\n#\ncanvas = vispy.scene.SceneCanvas(keys='interactive', show=True)\nview = canvas.central_widget.add_view()\n\n\n# generate data\npos = np.random.normal(size=(100000, 3), scale=0.2)\n# one could stop here for the data generation, the rest is just to make the\n# data look more interesting. Copied over from magnify.py\ncenters = np.random.normal(size=(50, 3))\nindexes = np.random.normal(size=100000, loc=centers.shape[0] / 2,\n                           scale=centers.shape[0] / 3)\nindexes = np.clip(indexes, 0, centers.shape[0] - 1).astype(int)\nsymbols = np.random.choice(['o', '^'], len(pos))\nscales = 10**(np.linspace(-2, 0.5, centers.shape[0]))[indexes][:, np.newaxis]\npos *= scales\npos += centers[indexes]\n\n# create scatter object and fill in the data\nscatter = visuals.Markers()\nscatter.set_data(pos, edge_width=0, face_color=(1, 1, 1, .5), size=5, symbol=symbols)\n\nview.add(scatter)\n\nview.camera = 'turntable'  # or try 'arcball'\n\n# add a colored 3D axis for orientation\naxis = visuals.XYZAxis(parent=view.scene)\n\nif __name__ == '__main__':\n    import sys\n    if sys.flags.interactive != 1:\n        vispy.app.run()"
      ]
    }
  ],
  "metadata": {
    "kernelspec": {
      "display_name": "Python 3",
      "language": "python",
      "name": "python3"
    },
    "language_info": {
      "codemirror_mode": {
        "name": "ipython",
        "version": 3
      },
      "file_extension": ".py",
      "mimetype": "text/x-python",
      "name": "python",
      "nbconvert_exporter": "python",
      "pygments_lexer": "ipython3",
      "version": "3.9.13"
    }
  },
  "nbformat": 4,
  "nbformat_minor": 0
}