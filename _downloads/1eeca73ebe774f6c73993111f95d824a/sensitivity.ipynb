{
  "cells": [
    {
      "cell_type": "code",
      "execution_count": null,
      "metadata": {
        "collapsed": false
      },
      "outputs": [],
      "source": [
        "%gui qt"
      ]
    },
    {
      "cell_type": "markdown",
      "metadata": {},
      "source": [
        "\n# Zoom Sensitivity\n\nFor testing zoom sensitivity on various platforms\n"
      ]
    },
    {
      "cell_type": "code",
      "execution_count": null,
      "metadata": {
        "collapsed": false
      },
      "outputs": [],
      "source": [
        "import numpy as np\nimport vispy.scene\nfrom vispy.scene import visuals\n\ncanvas = vispy.scene.SceneCanvas(keys='interactive', show=True)\nvb = canvas.central_widget.add_view()\nvb.camera = 'panzoom'\nvb.camera.rect = (-10, -10, 20, 20)\n\ncenters = np.random.normal(size=(50, 2))\npos = np.random.normal(size=(100000, 2), scale=0.2)\nindexes = np.random.normal(size=100000, loc=centers.shape[0]/2., \n                           scale=centers.shape[0]/3.)\nindexes = np.clip(indexes, 0, centers.shape[0]-1).astype(int)\nscales = 10**(np.linspace(-2, 0.5, centers.shape[0]))[indexes][:, np.newaxis]\npos *= scales\npos += centers[indexes]\n\nscatter = visuals.Markers()\nscatter.set_gl_state('translucent', depth_test=False)\nscatter.set_data(pos, edge_width=0, face_color=(1, 1, 1, 0.3), size=5)\nvb.add(scatter)\n\n\n@canvas.connect\ndef on_key_press(ev):\n    if ev.key.name in '+=':\n        vb.camera.zoom_factor *= 1.1\n    elif ev.key.name == '-':\n        vb.camera.zoom_factor /= 1.1\n    print(\"Zoom factor: %0.4f\" % vb.camera.zoom_factor)\n\n\nif __name__ == '__main__':\n    import sys\n    if sys.flags.interactive != 1:\n        vispy.app.run()"
      ]
    }
  ],
  "metadata": {
    "kernelspec": {
      "display_name": "Python 3",
      "language": "python",
      "name": "python3"
    },
    "language_info": {
      "codemirror_mode": {
        "name": "ipython",
        "version": 3
      },
      "file_extension": ".py",
      "mimetype": "text/x-python",
      "name": "python",
      "nbconvert_exporter": "python",
      "pygments_lexer": "ipython3",
      "version": "3.9.17"
    }
  },
  "nbformat": 4,
  "nbformat_minor": 0
}