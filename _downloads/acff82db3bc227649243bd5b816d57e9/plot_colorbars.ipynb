{
  "cells": [
    {
      "cell_type": "code",
      "execution_count": null,
      "metadata": {
        "collapsed": false
      },
      "outputs": [],
      "source": [
        "%gui qt"
      ]
    },
    {
      "cell_type": "markdown",
      "metadata": {},
      "source": [
        "\n# Line plot and colorbar\n"
      ]
    },
    {
      "cell_type": "code",
      "execution_count": null,
      "metadata": {
        "collapsed": false
      },
      "outputs": [],
      "source": [
        "import vispy.plot as vp\n\nfig = vp.Fig(size=(600, 500), show=False)\nplotwidget = fig[0, 0]\n\nfig.title = \"bollu\"\nplotwidget.plot([(x, x**2) for x in range(0, 100)], title=\"y = x^2\")\nplotwidget.colorbar(position=\"top\", cmap=\"autumn\")\n\nif __name__ == '__main__':\n    fig.show(run=True)"
      ]
    }
  ],
  "metadata": {
    "kernelspec": {
      "display_name": "Python 3",
      "language": "python",
      "name": "python3"
    },
    "language_info": {
      "codemirror_mode": {
        "name": "ipython",
        "version": 3
      },
      "file_extension": ".py",
      "mimetype": "text/x-python",
      "name": "python",
      "nbconvert_exporter": "python",
      "pygments_lexer": "ipython3",
      "version": "3.9.16"
    }
  },
  "nbformat": 4,
  "nbformat_minor": 0
}