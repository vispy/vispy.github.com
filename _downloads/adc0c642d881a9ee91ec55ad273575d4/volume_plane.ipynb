{
  "cells": [
    {
      "cell_type": "code",
      "execution_count": null,
      "metadata": {
        "collapsed": false
      },
      "outputs": [],
      "source": [
        "%gui qt"
      ]
    },
    {
      "cell_type": "markdown",
      "metadata": {},
      "source": [
        "\n# Rendering Planes through 3D Data\n\nControls:\n* 1  - toggle between volume rendering methods\n* 2 -  toggle between volume rendering modes ('volume', 'plane')\n* [] - shift plane along plane normal\n* {} - decrease/increase plane thickness\n* Spacebar - stop/start animation\n\n* x/y/z/o - set plane normal along x/y/z or [1,1,1] oblique axis\n"
      ]
    },
    {
      "cell_type": "code",
      "execution_count": null,
      "metadata": {
        "collapsed": false
      },
      "outputs": [],
      "source": [
        "import sys\n\nimport numpy as np\n\nfrom vispy import app, scene, io\nfrom vispy.visuals.transforms import STTransform\n\n# Read volume\nvol = np.load(io.load_data_file('volume/stent.npz'))['arr_0']\n\n# Prepare canvas\ncanvas = scene.SceneCanvas(keys='interactive', show=True)\nview = canvas.central_widget.add_view()\n\n# Create the volume visual for plane rendering\nplane = scene.visuals.Volume(\n    vol,\n    parent=view.scene,\n    raycasting_mode='plane',\n    method='mip',\n    plane_thickness=3.0,\n    plane_position=(128, 60, 64),\n    plane_normal=(1, 0, 0),\n)\n\nvolume = scene.visuals.Volume(\n    vol,\n    parent=view.scene,\n    raycasting_mode='volume',\n    method='mip',\n)\nvolume.set_gl_state('additive')\nvolume.opacity = 0.25\n\n# Create a camera\ncam = scene.cameras.TurntableCamera(\n    parent=view.scene, fov=60.0, azimuth=-42.0, elevation=30.0\n)\nview.camera = cam\n\n# Create an XYZAxis visual\naxis = scene.visuals.XYZAxis(parent=view)\ns = STTransform(translate=(50, 50), scale=(50, 50, 50, 1))\naffine = s.as_matrix()\naxis.transform = affine\n\n\ndef update_axis_visual():\n    \"\"\"Sync XYZAxis visual with camera angles\"\"\"\n    axis.transform.reset()\n\n    axis.transform.rotate(cam.roll, (0, 0, 1))\n    axis.transform.rotate(cam.elevation, (1, 0, 0))\n    axis.transform.rotate(cam.azimuth, (0, 1, 0))\n    axis.transform.scale((50, 50, 0.001))\n    axis.transform.translate((50., 50.))\n\n    axis.update()\n\n\nupdate_axis_visual()\n\n\n@canvas.events.mouse_move.connect\ndef on_mouse_move(event):\n    if event.button == 1 and event.is_dragging:\n        update_axis_visual()\n\n\n# Implement key presses\n@canvas.events.key_press.connect\ndef on_key_press(event):\n    if event.text == '1':\n        methods = ['mip', 'average']\n        method = methods[(methods.index(plane.method) + 1) % 2]\n        print(\"Volume render method: %s\" % method)\n        plane.method = method\n    elif event.text == '2':\n        modes = ['volume', 'plane']\n        if plane.raycasting_mode == modes[0]:\n            plane.raycasting_mode = modes[1]\n            print(modes[1])\n        else:\n            plane.raycasting_mode = modes[0]\n            print(modes[0])\n    elif event.text != '' and event.text in '{}':\n        t = -1 if event.text == '{' else 1\n        plane.plane_thickness += t\n        plane.plane_thickness += t\n        print(f\"plane thickness: {plane.plane_thickness}\")\n    elif event.text != '' and event.text in '[]':\n        shift = plane.plane_normal / np.linalg.norm(plane.plane_normal)\n        if event.text == '[':\n            plane.plane_position -= 2 * shift\n        elif event.text == ']':\n            plane.plane_position += 2 * shift\n        print(f\"plane position: {plane.plane_position}\")\n    elif event.text == 'x':\n        plane.plane_normal = [0, 0, 1]\n    elif event.text == 'y':\n        plane.plane_normal = [0, 1, 0]\n    elif event.text == 'z':\n        plane.plane_normal = [1, 0, 0]\n    elif event.text == 'o':\n        plane.plane_normal = [1, 1, 1]\n    elif event.text == ' ':\n        if timer.running:\n            timer.stop()\n        else:\n            timer.start()\n\n\ndef move_plane(event):\n    z_pos = plane.plane_position[0]\n    if z_pos < 32:\n        plane.plane_position = plane.plane_position + [1, 0, 0]\n    elif 32 < z_pos <= 220:\n        plane.plane_position = plane.plane_position - [1, 0, 0]\n    else:\n        plane.plane_position = (220, 64, 64)\n\n\ntimer = app.Timer('auto', connect=move_plane, start=True)\n\nif __name__ == '__main__':\n    canvas.show()\n    print(__doc__)\n    if sys.flags.interactive == 0:\n        plane.plane_position = (220, 64, 64)\n        app.run()"
      ]
    }
  ],
  "metadata": {
    "kernelspec": {
      "display_name": "Python 3",
      "language": "python",
      "name": "python3"
    },
    "language_info": {
      "codemirror_mode": {
        "name": "ipython",
        "version": 3
      },
      "file_extension": ".py",
      "mimetype": "text/x-python",
      "name": "python",
      "nbconvert_exporter": "python",
      "pygments_lexer": "ipython3",
      "version": "3.9.21"
    }
  },
  "nbformat": 4,
  "nbformat_minor": 0
}