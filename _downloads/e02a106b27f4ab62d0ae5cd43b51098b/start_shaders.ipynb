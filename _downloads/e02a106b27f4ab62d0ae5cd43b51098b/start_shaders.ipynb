{
  "cells": [
    {
      "cell_type": "code",
      "execution_count": null,
      "metadata": {
        "collapsed": false
      },
      "outputs": [],
      "source": [
        "%gui qt"
      ]
    },
    {
      "cell_type": "markdown",
      "metadata": {},
      "source": [
        "\n# Simplest Shader Program\n"
      ]
    },
    {
      "cell_type": "code",
      "execution_count": null,
      "metadata": {
        "collapsed": false
      },
      "outputs": [],
      "source": [
        "import sys\n\nfrom vispy import gloo\nfrom vispy import app\nimport numpy as np\n\nVERT_SHADER = \"\"\"\nattribute vec2 a_position;\nuniform float u_size;\n\nvoid main() {\n    gl_Position = vec4(a_position, 0.0, 1.0);\n    gl_PointSize = u_size;\n}\n\"\"\"\n\nFRAG_SHADER = \"\"\"\nvoid main() {\n    gl_FragColor = vec4(1.0, 0.0, 0.0, 1.0);\n}\n\"\"\"\n\n\nclass Canvas(app.Canvas):\n    def __init__(self):\n        app.Canvas.__init__(self, keys='interactive')\n\n        ps = self.pixel_scale\n\n        self.program = gloo.Program(VERT_SHADER, FRAG_SHADER)\n        data = np.random.uniform(-0.5, 0.5, size=(20, 2))\n        self.program['a_position'] = data.astype(np.float32)\n        self.program['u_size'] = 20.*ps\n\n        self.show()\n\n    def on_resize(self, event):\n        width, height = event.size\n        gloo.set_viewport(0, 0, width, height)\n\n    def on_draw(self, event):\n        gloo.clear('white')\n        self.program.draw('points')\n\n\nif __name__ == '__main__':\n    canvas = Canvas()\n    if sys.flags.interactive != 1:\n        app.run()"
      ]
    }
  ],
  "metadata": {
    "kernelspec": {
      "display_name": "Python 3",
      "language": "python",
      "name": "python3"
    },
    "language_info": {
      "codemirror_mode": {
        "name": "ipython",
        "version": 3
      },
      "file_extension": ".py",
      "mimetype": "text/x-python",
      "name": "python",
      "nbconvert_exporter": "python",
      "pygments_lexer": "ipython3",
      "version": "3.9.19"
    }
  },
  "nbformat": 4,
  "nbformat_minor": 0
}