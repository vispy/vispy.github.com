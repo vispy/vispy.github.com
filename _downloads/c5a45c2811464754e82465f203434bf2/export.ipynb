{
  "cells": [
    {
      "cell_type": "code",
      "execution_count": null,
      "metadata": {
        "collapsed": false
      },
      "outputs": [],
      "source": [
        "%gui qt"
      ]
    },
    {
      "cell_type": "markdown",
      "metadata": {},
      "source": [
        "\n# Plot a scaled Image\n\nDemonstrates rendering a canvas to an image at higher resolution than the\noriginal display.\n\nNOTE: This example is currently broken.\n"
      ]
    },
    {
      "cell_type": "code",
      "execution_count": null,
      "metadata": {
        "collapsed": false
      },
      "outputs": [],
      "source": [
        "import vispy.plot as vp\n\n# Create a canvas showing plot data\nfig = vp.Fig()\nfig[0, 0].plot([1, 6, 2, 4, 3, 8, 5, 7, 6, 3])\n\n# Render the canvas scene to a numpy array image with higher resolution\n# than the original canvas\nscale = 4\nimage = fig.render(size=(fig.size[0]*scale, fig.size[1]*scale))\n\n# Display the data in the array, sub-sampled down to the original canvas\n# resolution\nfig_2 = vp.Fig()\nfig_2[0, 0].image(image[::-scale, ::scale])\n\n# By default, the view adds some padding when setting its range.\n# We'll remove that padding so the image looks exactly like the original\n# canvas:\nfig_2[0, 0].camera.set_range(margin=0)\n\nif __name__ == '__main__':\n    fig.app.run()"
      ]
    }
  ],
  "metadata": {
    "kernelspec": {
      "display_name": "Python 3",
      "language": "python",
      "name": "python3"
    },
    "language_info": {
      "codemirror_mode": {
        "name": "ipython",
        "version": 3
      },
      "file_extension": ".py",
      "mimetype": "text/x-python",
      "name": "python",
      "nbconvert_exporter": "python",
      "pygments_lexer": "ipython3",
      "version": "3.9.19"
    }
  },
  "nbformat": 4,
  "nbformat_minor": 0
}