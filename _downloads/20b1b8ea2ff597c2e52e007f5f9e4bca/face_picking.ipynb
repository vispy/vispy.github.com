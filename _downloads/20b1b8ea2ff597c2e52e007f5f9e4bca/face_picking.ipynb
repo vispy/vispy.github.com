{
  "cells": [
    {
      "cell_type": "code",
      "execution_count": null,
      "metadata": {
        "collapsed": false
      },
      "outputs": [],
      "source": [
        "%gui qt"
      ]
    },
    {
      "cell_type": "markdown",
      "metadata": {},
      "source": [
        "\n# Picking Faces from a Mesh\n\nDemonstrates how to identify (pick) individual faces on a mesh.\n\nArguments:\n* --mesh - Path to a mesh file (OBJ/OBJ.GZ) [optional]\n\nControls:\n* p  - Toggle face picking view - shows the colors encoding face ID\n* r  - Clear painted faces\n* s  - Cycle shading modes (None, 'flat', 'smooth')\n* w  - Toggle wireframe\n"
      ]
    },
    {
      "cell_type": "code",
      "execution_count": null,
      "metadata": {
        "collapsed": false
      },
      "outputs": [],
      "source": [
        "import argparse\nimport itertools\nimport time\n\nimport numpy as np\n\nfrom vispy import app, scene\nfrom vispy.io import read_mesh, load_data_file\nfrom vispy.scene.visuals import Mesh\nfrom vispy.scene import transforms\nfrom vispy.visuals.filters import ShadingFilter, WireframeFilter, FacePickingFilter\n\n\nparser = argparse.ArgumentParser()\ndefault_mesh = load_data_file('orig/triceratops.obj.gz')\nparser.add_argument('--mesh', default=default_mesh)\nargs, _ = parser.parse_known_args()\n\nvertices, faces, _normals, _texcoords = read_mesh(args.mesh)\n\ncanvas = scene.SceneCanvas(keys='interactive', bgcolor='white')\nview = canvas.central_widget.add_view()\n\nview.camera = 'arcball'\nview.camera.depth_value = 1e3\n\n# Create a colored `MeshVisual`.\nface_colors = np.tile((0.5, 0.0, 0.5, 1.0), (len(faces), 1))\nmesh = Mesh(\n    vertices,\n    faces,\n    face_colors=face_colors.copy()\n)\nmesh.transform = transforms.MatrixTransform()\nmesh.transform.rotate(90, (1, 0, 0))\nmesh.transform.rotate(-45, (0, 0, 1))\nview.add(mesh)\n\n# Use filters to affect the rendering of the mesh.\nwireframe_filter = WireframeFilter()\nshading_filter = ShadingFilter()\nface_picking_filter = FacePickingFilter()\nmesh.attach(wireframe_filter)\nmesh.attach(shading_filter)\nmesh.attach(face_picking_filter)\n\n\ndef attach_headlight(view):\n    light_dir = (0, 1, 0, 0)\n    shading_filter.light_dir = light_dir[:3]\n    initial_light_dir = view.camera.transform.imap(light_dir)\n\n    @view.scene.transform.changed.connect\n    def on_transform_change(event):\n        transform = view.camera.transform\n        shading_filter.light_dir = transform.map(initial_light_dir)[:3]\n\n\nattach_headlight(view)\n\nshading = itertools.cycle((\"flat\", \"smooth\", None))\nshading_filter.shading = next(shading)\n\n\nthrottle = time.monotonic()\n\n\n@canvas.events.mouse_move.connect\ndef on_mouse_move(event):\n    global throttle\n    # throttle mouse events to 50ms\n    if time.monotonic() - throttle < 0.05:\n        return\n    throttle = time.monotonic()\n\n    # adjust the event position for hidpi screens\n    render_size = tuple(d * canvas.pixel_scale for d in canvas.size)\n    x_pos = event.pos[0] * canvas.pixel_scale\n    y_pos = render_size[1] - (event.pos[1] * canvas.pixel_scale)\n\n    # render a small patch around the mouse cursor\n    restore_state = not face_picking_filter.enabled\n    face_picking_filter.enabled = True\n    mesh.update_gl_state(blend=False)\n    picking_render = canvas.render(\n        region=(x_pos - 1, y_pos - 1, 3, 3),\n        size=(3, 3),\n        bgcolor=(0, 0, 0, 0),\n        alpha=True,\n    )\n    if restore_state:\n        face_picking_filter.enabled = False\n    mesh.update_gl_state(blend=not face_picking_filter.enabled)\n\n    # unpack the face index from the color in the center pixel\n    face_idx = (picking_render.view(np.uint32) - 1)[1, 1, 0]\n\n    if face_idx > 0 and face_idx < len(face_colors):\n        # this may be less safe, but it's faster than set_data\n        mesh.mesh_data._face_colors_indexed_by_faces[face_idx] = (0, 1, 0, 1)\n        mesh.mesh_data_changed()\n\n\n@canvas.events.key_press.connect\ndef on_key_press(event):\n    if event.key == 'p':\n        face_picking_filter.enabled = not face_picking_filter.enabled\n        mesh.update_gl_state(blend=not face_picking_filter.enabled)\n        mesh.update()\n\n    if event.key == 'r':\n        mesh.set_data(vertices, faces, face_colors=face_colors)\n\n    if event.key == 's':\n        shading_filter.shading = next(shading)\n        mesh.update()\n\n    if event.key == 'w':\n        wireframe_filter.enabled = not wireframe_filter.enabled\n        mesh.update()\n\n\ncanvas.show()\n\n\nif __name__ == \"__main__\":\n    print(__doc__)\n    app.run()"
      ]
    }
  ],
  "metadata": {
    "kernelspec": {
      "display_name": "Python 3",
      "language": "python",
      "name": "python3"
    },
    "language_info": {
      "codemirror_mode": {
        "name": "ipython",
        "version": 3
      },
      "file_extension": ".py",
      "mimetype": "text/x-python",
      "name": "python",
      "nbconvert_exporter": "python",
      "pygments_lexer": "ipython3",
      "version": "3.9.21"
    }
  },
  "nbformat": 4,
  "nbformat_minor": 0
}