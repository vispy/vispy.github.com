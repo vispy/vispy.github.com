{
  "cells": [
    {
      "cell_type": "code",
      "execution_count": null,
      "metadata": {
        "collapsed": false
      },
      "outputs": [],
      "source": [
        "%gui qt"
      ]
    },
    {
      "cell_type": "markdown",
      "metadata": {},
      "source": [
        "\n# Simple use of a grid layout\n\n\n+-----+-----+\n|     |     |\n|  1  |  2  |\n|     |     |\n+-----+-----+\n"
      ]
    },
    {
      "cell_type": "code",
      "execution_count": null,
      "metadata": {
        "collapsed": false
      },
      "outputs": [],
      "source": [
        "import sys\n\nfrom vispy import scene, app\n\ncanvas = scene.SceneCanvas(keys='interactive')\ncanvas.size = 600, 600\n\n# This is the top-level widget that will hold three ViewBoxes, which will\n# be automatically resized whenever the grid is resized.\ngrid = canvas.central_widget.add_grid()\n\nwidget_left = grid.add_widget(row=0, col=0)\nwidget_left.bgcolor = \"#dd0000\"\n\nwidget_right = grid.add_widget(row=0, col=1)\nwidget_right.bgcolor = \"#0000dd\"\n\ncanvas.show()\n\nif __name__ == '__main__' and sys.flags.interactive == 0:\n    app.run()"
      ]
    }
  ],
  "metadata": {
    "kernelspec": {
      "display_name": "Python 3",
      "language": "python",
      "name": "python3"
    },
    "language_info": {
      "codemirror_mode": {
        "name": "ipython",
        "version": 3
      },
      "file_extension": ".py",
      "mimetype": "text/x-python",
      "name": "python",
      "nbconvert_exporter": "python",
      "pygments_lexer": "ipython3",
      "version": "3.9.20"
    }
  },
  "nbformat": 4,
  "nbformat_minor": 0
}