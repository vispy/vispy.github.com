{
  "cells": [
    {
      "cell_type": "code",
      "execution_count": null,
      "metadata": {
        "collapsed": false
      },
      "outputs": [],
      "source": [
        "%gui qt"
      ]
    },
    {
      "cell_type": "markdown",
      "metadata": {},
      "source": [
        "\n# Show color quad Image\n\nCreate a new drawing using triangle_strip\n"
      ]
    },
    {
      "cell_type": "code",
      "execution_count": null,
      "metadata": {
        "collapsed": false
      },
      "outputs": [],
      "source": [
        "from vispy import app, gloo\nfrom vispy.gloo import Program\n\nvertex = \"\"\"\n    attribute vec4 color;\n    attribute vec2 position;\n    varying vec4 v_color;\n    void main()\n    {\n        gl_Position = vec4(position, 0.0, 1.0);\n        v_color = color;\n    } \"\"\"\n\nfragment = \"\"\"\n    varying vec4 v_color;\n    void main()\n    {\n        gl_FragColor = v_color;\n    } \"\"\"\n\n\nclass Canvas(app.Canvas):\n    def __init__(self):\n        super().__init__(size=(512, 512), title='Colored quad',\n                         keys='interactive')\n\n        # Build program\n        self.program = Program(vertex, fragment, count=4)\n\n        # Set uniforms and attributes\n        self.program['color'] = [(1, 0, 0, 1), (0, 1, 0, 1),\n                                 (0, 0, 1, 1), (1, 1, 0, 1)]\n        self.program['position'] = [(-1, -1), (-1, +1),\n                                    (+1, -1), (+1, +1)]\n\n        gloo.set_viewport(0, 0, *self.physical_size)\n\n        self.show()\n\n    def on_draw(self, event):\n        gloo.clear()\n        self.program.draw('triangle_strip')\n\n    def on_resize(self, event):\n        gloo.set_viewport(0, 0, *event.physical_size)\n\n\nc = Canvas()\n\nif __name__ == '__main__':\n    app.run()"
      ]
    }
  ],
  "metadata": {
    "kernelspec": {
      "display_name": "Python 3",
      "language": "python",
      "name": "python3"
    },
    "language_info": {
      "codemirror_mode": {
        "name": "ipython",
        "version": 3
      },
      "file_extension": ".py",
      "mimetype": "text/x-python",
      "name": "python",
      "nbconvert_exporter": "python",
      "pygments_lexer": "ipython3",
      "version": "3.9.13"
    }
  },
  "nbformat": 4,
  "nbformat_minor": 0
}