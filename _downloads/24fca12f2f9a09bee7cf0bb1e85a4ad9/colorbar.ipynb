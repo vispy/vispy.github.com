{
  "cells": [
    {
      "cell_type": "code",
      "execution_count": null,
      "metadata": {
        "collapsed": false
      },
      "outputs": [],
      "source": [
        "%gui qt"
      ]
    },
    {
      "cell_type": "markdown",
      "metadata": {},
      "source": [
        "\n# Plot different styles of ColorBar\n"
      ]
    },
    {
      "cell_type": "code",
      "execution_count": null,
      "metadata": {
        "collapsed": false
      },
      "outputs": [],
      "source": [
        "from vispy import plot as vp\nimport numpy as np\n\n\n# arg( e^(1/z) )\ndef exp_z_inv(x, y):\n    z = np.complex(x, y)\n    f = np.exp(1.0 / z)\n    return np.angle(f, deg=True)\n\n\n# create a 2d grid whose elements are of exp_z_inv\ndef gen_image(width, height):\n    x_vals = np.linspace(-0.5, 0.5, width)\n    y_vals = np.linspace(-0.5, 0.5, height)\n\n    grid = np.meshgrid(x_vals, y_vals)\n    v_fn = np.vectorize(exp_z_inv)\n\n    return v_fn(*grid).astype(np.float32)\n\nfig = vp.Fig(size=(800, 600), show=False)\nplot = fig[0, 0]\nplot.bgcolor = \"#efefef\"\n\nimg = gen_image(500, 500)\nplot.image(img, cmap=\"hsl\")\nplot.camera.set_range((100, 400), (100, 400))\n\npositions = [\"top\", \"bottom\", \"left\", \"right\"]\n\nfor position in positions:\n    plot.colorbar(position=position,\n                  label=\"argument of e^(1/z)\",\n                  clim=(\"0\u00b0\", \"180\u00b0\"),\n                  cmap=\"hsl\",\n                  border_width=1,\n                  border_color=\"#aeaeae\")\nif __name__ == '__main__':\n    fig.show(run=True)"
      ]
    }
  ],
  "metadata": {
    "kernelspec": {
      "display_name": "Python 3",
      "language": "python",
      "name": "python3"
    },
    "language_info": {
      "codemirror_mode": {
        "name": "ipython",
        "version": 3
      },
      "file_extension": ".py",
      "mimetype": "text/x-python",
      "name": "python",
      "nbconvert_exporter": "python",
      "pygments_lexer": "ipython3",
      "version": "3.9.15"
    }
  },
  "nbformat": 4,
  "nbformat_minor": 0
}