{
  "cells": [
    {
      "cell_type": "code",
      "execution_count": null,
      "metadata": {
        "collapsed": false
      },
      "outputs": [],
      "source": [
        "%gui qt"
      ]
    },
    {
      "cell_type": "markdown",
      "metadata": {},
      "source": [
        "\n# Multiple Line Views on a Grid \n\nTest automatic layout of multiple viewboxes using Grid.\n"
      ]
    },
    {
      "cell_type": "code",
      "execution_count": null,
      "metadata": {
        "collapsed": false
      },
      "outputs": [],
      "source": [
        "import sys\nfrom vispy import scene\nfrom vispy import app\nimport numpy as np\n\ncanvas = scene.SceneCanvas(keys='interactive')\ncanvas.size = 600, 600\ncanvas.show()\n\ngrid = canvas.central_widget.add_grid()\n\n\nN = 10000\nlines = []\nfor i in range(10):\n    lines.append([])\n    for j in range(10):\n        vb = grid.add_view(row=i, col=j)\n        vb.camera = 'panzoom'\n        vb.camera.rect = (0, -5), (100, 10)\n        # vb.border = (1, 1, 1, 0.4)\n\n        pos = np.empty((N, 2), dtype=np.float32)\n        pos[:, 0] = np.linspace(0, 100, N)\n        pos[:, 1] = np.random.normal(size=N)\n        line = scene.visuals.Line(pos=pos, color=(1, 1, 1, 0.5), method='gl')\n        vb.add(line)\n\n\nif __name__ == '__main__' and sys.flags.interactive == 0:\n    app.run()"
      ]
    }
  ],
  "metadata": {
    "kernelspec": {
      "display_name": "Python 3",
      "language": "python",
      "name": "python3"
    },
    "language_info": {
      "codemirror_mode": {
        "name": "ipython",
        "version": 3
      },
      "file_extension": ".py",
      "mimetype": "text/x-python",
      "name": "python",
      "nbconvert_exporter": "python",
      "pygments_lexer": "ipython3",
      "version": "3.9.23"
    }
  },
  "nbformat": 4,
  "nbformat_minor": 0
}