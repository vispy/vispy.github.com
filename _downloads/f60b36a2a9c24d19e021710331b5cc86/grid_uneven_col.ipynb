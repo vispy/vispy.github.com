{
  "cells": [
    {
      "cell_type": "code",
      "execution_count": null,
      "metadata": {
        "collapsed": false
      },
      "outputs": [],
      "source": [
        "%gui qt"
      ]
    },
    {
      "cell_type": "markdown",
      "metadata": {},
      "source": [
        "\n# Another Grid Layout\n\n+-----+-----+-----+\n|  1  |  2  |  2  |\n+-----+-----+-----+\n|  3  |  3  |  4  |\n+-----+-----+-----+\n"
      ]
    },
    {
      "cell_type": "code",
      "execution_count": null,
      "metadata": {
        "collapsed": false
      },
      "outputs": [],
      "source": [
        "import sys\n\nfrom vispy import scene, app\n\ncanvas = scene.SceneCanvas(keys='interactive')\ncanvas.size = 600, 600\ncanvas.show()\n\ngrid = canvas.central_widget.add_grid()\n\n# top_left\ngrid.add_widget(row=0, col=0, bgcolor=\"#999999\")\n\n# top_right\ngrid.add_widget(row=0, col=1, col_span=2, bgcolor=\"#dd0000\")\n\n# bottom_left\ngrid.add_widget(row=1, col=0, col_span=2, bgcolor=\"#0000dd\")\n\n# bottom_right\ngrid.add_widget(row=1, col=2, bgcolor=\"#00dd00\")\n\n\nif __name__ == '__main__' and sys.flags.interactive == 0:\n    app.run()"
      ]
    }
  ],
  "metadata": {
    "kernelspec": {
      "display_name": "Python 3",
      "language": "python",
      "name": "python3"
    },
    "language_info": {
      "codemirror_mode": {
        "name": "ipython",
        "version": 3
      },
      "file_extension": ".py",
      "mimetype": "text/x-python",
      "name": "python",
      "nbconvert_exporter": "python",
      "pygments_lexer": "ipython3",
      "version": "3.9.13"
    }
  },
  "nbformat": 4,
  "nbformat_minor": 0
}