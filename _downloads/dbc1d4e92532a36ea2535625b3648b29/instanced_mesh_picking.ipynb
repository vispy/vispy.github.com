{
  "cells": [
    {
      "cell_type": "code",
      "execution_count": null,
      "metadata": {
        "collapsed": false
      },
      "outputs": [],
      "source": [
        "%gui qt"
      ]
    },
    {
      "cell_type": "markdown",
      "metadata": {},
      "source": [
        "\n# Picking Instance of InstancedMeshes\n\nDemonstrates how to identify (pick) individual instanced meshes.\n"
      ]
    },
    {
      "cell_type": "code",
      "execution_count": null,
      "metadata": {
        "collapsed": false
      },
      "outputs": [],
      "source": [
        "import numpy as np\n\nfrom vispy import app, scene, use\nfrom vispy.io import read_mesh, load_data_file\nfrom vispy.scene.visuals import InstancedMesh\nfrom vispy.scene import transforms\nfrom scipy.spatial.transform import Rotation\n\n#Necessary to use InstancedMesh\nuse(gl='gl+')\n\ncanvas = scene.SceneCanvas(keys='interactive', bgcolor='white')\nview = canvas.central_widget.add_view()\n\nview.camera = 'turntable'\nview.camera.depth_value = 1e3\n\n#Load an mesh file\nmesh_path = load_data_file('spot/spot.obj.gz')\n\nn_instances = 8\nvertices, faces, normals, texcoords = read_mesh(mesh_path)\ninstance_colors = np.random.rand(n_instances, 3).astype(np.float32)\ninstance_positions = [[0,2,0], [2,0,0], [6,0,0], [3,4,1], [5,3,2], [6,2,1], [8,4,6], [1,2,6]]\ninstance_transforms = Rotation.identity(n_instances).as_matrix().astype(np.float32)\n\n# Create a colored `MeshVisual`.\nmesh = InstancedMesh(\n    vertices,\n    faces,\n    instance_colors=instance_colors,\n    instance_positions=instance_positions,\n    instance_transforms=instance_transforms,\n    parent=view.scene,\n)\n\nscene.visuals.XYZAxis(parent=view.scene)\nmesh.interactive = True\n\n@canvas.events.mouse_press.connect\ndef on_mouse_press(event):\n    clicked_mesh = canvas.visual_at(event.pos)\n    if isinstance(clicked_mesh, InstancedMesh):\n        pos1, min, min_pos = get_view_axis_in_scene_coordinates(\n            event.pos, clicked_mesh\n        )\n        instance_pos = clicked_mesh.instance_positions[min_pos]\n        print(f\"visual at : {clicked_mesh}\")\n        print(f\"event.pos : {event.pos}\")\n        print(f\"min distance : {min} and min_pos : {instance_pos}\")\n       \n\n\ndef get_view_axis_in_scene_coordinates(pos, mesh):\n    event_pos = np.array([pos[0], pos[1], 0, 1])  \n    instances_on_canvas = []\n    # Translate each position to corresponding 2d canvas coordinates\n    for instance in mesh.instance_positions:\n        on_canvas = mesh.get_transform(map_from=\"visual\", map_to=\"canvas\").map(instance)\n        on_canvas /= on_canvas[3:]\n        instances_on_canvas.append(on_canvas)\n\n    min = 10000\n    min_pos = None\n    # Find the closest position to the clicked position\n    for i, instance_pos in enumerate(instances_on_canvas):\n        # Not minding z axis\n        temp_min = np.linalg.norm(\n            np.array(event_pos[:2]) - np.array(instance_pos[:2])\n        )\n        if temp_min < min:\n            min = temp_min\n            min_pos = i\n\n    return instances_on_canvas, min, min_pos\n\ncanvas.show()\n\n\nif __name__ == \"__main__\":\n    print(__doc__)\n    app.run()"
      ]
    }
  ],
  "metadata": {
    "kernelspec": {
      "display_name": "Python 3",
      "language": "python",
      "name": "python3"
    },
    "language_info": {
      "codemirror_mode": {
        "name": "ipython",
        "version": 3
      },
      "file_extension": ".py",
      "mimetype": "text/x-python",
      "name": "python",
      "nbconvert_exporter": "python",
      "pygments_lexer": "ipython3",
      "version": "3.9.22"
    }
  },
  "nbformat": 4,
  "nbformat_minor": 0
}