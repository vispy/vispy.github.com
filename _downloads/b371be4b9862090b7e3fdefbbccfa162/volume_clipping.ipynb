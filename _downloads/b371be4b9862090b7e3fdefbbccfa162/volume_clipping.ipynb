{
  "cells": [
    {
      "cell_type": "code",
      "execution_count": null,
      "metadata": {
        "collapsed": false
      },
      "outputs": [],
      "source": [
        "%gui qt"
      ]
    },
    {
      "cell_type": "markdown",
      "metadata": {},
      "source": [
        "\n# Volume rendering with clipping planes\nControls:\n- x/y/z/o - add new clipping plane with normal along x/y/z or [1,1,1] oblique axis\n- r - remove a clipping plane\n"
      ]
    },
    {
      "cell_type": "code",
      "execution_count": null,
      "metadata": {
        "collapsed": false
      },
      "outputs": [],
      "source": [
        "from itertools import cycle\n\nimport numpy as np\n\nfrom vispy import app, scene, io\nfrom vispy.color import get_colormaps, BaseColormap\nfrom vispy.visuals.transforms import STTransform\n\n# Read volume\nvol = np.load(io.load_data_file('volume/stent.npz'))['arr_0']\n\n# Prepare canvas\ncanvas = scene.SceneCanvas(keys='interactive', size=(800, 600), show=True)\n\n# Set up a viewbox to display the image with interactive pan/zoom\nview = canvas.central_widget.add_view()\n\n# Set whether we are emulating a 3D texture\nemulate_texture = False\n\n# Create the volume visuals, only one is visible\nvolume = scene.visuals.Volume(vol, parent=view.scene, threshold=0.225)\nvolume.transform = scene.STTransform(translate=(64, 64, 0))\n\n# Create three cameras (Fly, Turntable and Arcball)\nfov = 60.\ncam = scene.cameras.TurntableCamera(parent=view.scene, fov=fov,\n                                    name='Turntable')\n\nview.camera = cam  # Select turntable at first\n\n# Create an XYZAxis visual\naxis = scene.visuals.XYZAxis(parent=view)\ns = STTransform(translate=(50, 50), scale=(50, 50, 50, 1))\naffine = s.as_matrix()\naxis.transform = affine\n\n\n# create colormaps that work well for translucent and additive volume rendering\nclass TransFire(BaseColormap):\n    glsl_map = \"\"\"\n    vec4 translucent_fire(float t) {\n        return vec4(pow(t, 0.5), t, t*t, max(0, t*1.05 - 0.05));\n    }\n    \"\"\"\n\n\nclass TransGrays(BaseColormap):\n    glsl_map = \"\"\"\n    vec4 translucent_grays(float t) {\n        return vec4(t, t, t, t*0.05);\n    }\n    \"\"\"\n\n\n# Setup colormap iterators\nopaque_cmaps = cycle(get_colormaps())\ntranslucent_cmaps = cycle([TransFire(), TransGrays()])\nopaque_cmap = next(opaque_cmaps)\ntranslucent_cmap = next(translucent_cmaps)\n\n\n# Implement axis connection with cam2\n@canvas.events.mouse_move.connect\ndef on_mouse_move(event):\n    if event.button == 1 and event.is_dragging:\n        axis.transform.reset()\n\n        axis.transform.rotate(cam.roll, (0, 0, 1))\n        axis.transform.rotate(cam.elevation, (1, 0, 0))\n        axis.transform.rotate(cam.azimuth, (0, 1, 0))\n\n        axis.transform.scale((50, 50, 0.001))\n        axis.transform.translate((50., 50.))\n        axis.update()\n\nvolume_center = (np.array(vol.shape) / 2)\n\nclip_modes = {\n    'x': np.array([[volume_center, [0, 0, 1]]]),\n    'y': np.array([[volume_center, [0, 1, 0]]]),\n    'z': np.array([[volume_center, [1, 0, 0]]]),\n    'o': np.array([[volume_center, [1, 1, 1]]]),\n}\n\n\ndef add_clip(vol, mode):\n    new_plane = clip_modes[mode]\n    if vol.clipping_planes is None:\n        vol.clipping_planes = new_plane\n    else:\n        vol.clipping_planes = np.concatenate([vol.clipping_planes, new_plane])\n\n\ndef remove_clip(vol):\n    if vol.clipping_planes is not None:\n        vol.clipping_planes = vol.clipping_planes[:-1]\n\n\n# Implement key presses\n@canvas.events.key_press.connect\ndef on_key_press(event):\n    if event.text in 'xyzo':\n        add_clip(volume, event.text)\n    elif event.text == 'r':\n        remove_clip(volume)\n\n\n# for testing performance\n# @canvas.connect\n# def on_draw(ev):\n# canvas.update()\n\nif __name__ == '__main__':\n    print(__doc__)\n    app.run()"
      ]
    }
  ],
  "metadata": {
    "kernelspec": {
      "display_name": "Python 3",
      "language": "python",
      "name": "python3"
    },
    "language_info": {
      "codemirror_mode": {
        "name": "ipython",
        "version": 3
      },
      "file_extension": ".py",
      "mimetype": "text/x-python",
      "name": "python",
      "nbconvert_exporter": "python",
      "pygments_lexer": "ipython3",
      "version": "3.9.0"
    }
  },
  "nbformat": 4,
  "nbformat_minor": 0
}